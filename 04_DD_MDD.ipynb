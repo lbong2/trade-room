{
 "cells": [
  {
   "cell_type": "code",
   "execution_count": 126,
   "id": "12952834-0a7d-4539-8f1d-1d369cf2ce29",
   "metadata": {},
   "outputs": [
    {
     "data": {
      "text/html": [
       "<div>\n",
       "<style scoped>\n",
       "    .dataframe tbody tr th:only-of-type {\n",
       "        vertical-align: middle;\n",
       "    }\n",
       "\n",
       "    .dataframe tbody tr th {\n",
       "        vertical-align: top;\n",
       "    }\n",
       "\n",
       "    .dataframe thead th {\n",
       "        text-align: right;\n",
       "    }\n",
       "</style>\n",
       "<table border=\"1\" class=\"dataframe\">\n",
       "  <thead>\n",
       "    <tr style=\"text-align: right;\">\n",
       "      <th></th>\n",
       "      <th>Close</th>\n",
       "    </tr>\n",
       "    <tr>\n",
       "      <th>Date</th>\n",
       "      <th></th>\n",
       "    </tr>\n",
       "  </thead>\n",
       "  <tbody>\n",
       "    <tr>\n",
       "      <th>2021-01-04</th>\n",
       "      <td>293000</td>\n",
       "    </tr>\n",
       "    <tr>\n",
       "      <th>2021-01-05</th>\n",
       "      <td>292500</td>\n",
       "    </tr>\n",
       "    <tr>\n",
       "      <th>2021-01-06</th>\n",
       "      <td>290000</td>\n",
       "    </tr>\n",
       "    <tr>\n",
       "      <th>2021-01-07</th>\n",
       "      <td>289500</td>\n",
       "    </tr>\n",
       "    <tr>\n",
       "      <th>2021-01-08</th>\n",
       "      <td>312000</td>\n",
       "    </tr>\n",
       "    <tr>\n",
       "      <th>...</th>\n",
       "      <td>...</td>\n",
       "    </tr>\n",
       "    <tr>\n",
       "      <th>2024-09-19</th>\n",
       "      <td>160600</td>\n",
       "    </tr>\n",
       "    <tr>\n",
       "      <th>2024-09-20</th>\n",
       "      <td>159900</td>\n",
       "    </tr>\n",
       "    <tr>\n",
       "      <th>2024-09-23</th>\n",
       "      <td>166700</td>\n",
       "    </tr>\n",
       "    <tr>\n",
       "      <th>2024-09-24</th>\n",
       "      <td>168000</td>\n",
       "    </tr>\n",
       "    <tr>\n",
       "      <th>2024-09-25</th>\n",
       "      <td>166200</td>\n",
       "    </tr>\n",
       "  </tbody>\n",
       "</table>\n",
       "<p>919 rows × 1 columns</p>\n",
       "</div>"
      ],
      "text/plain": [
       "             Close\n",
       "Date              \n",
       "2021-01-04  293000\n",
       "2021-01-05  292500\n",
       "2021-01-06  290000\n",
       "2021-01-07  289500\n",
       "2021-01-08  312000\n",
       "...            ...\n",
       "2024-09-19  160600\n",
       "2024-09-20  159900\n",
       "2024-09-23  166700\n",
       "2024-09-24  168000\n",
       "2024-09-25  166200\n",
       "\n",
       "[919 rows x 1 columns]"
      ]
     },
     "execution_count": 126,
     "metadata": {},
     "output_type": "execute_result"
    }
   ],
   "source": [
    "import FinanceDataReader as fdr \n",
    "\n",
    "df = fdr.DataReader(\"035420\", start='2021')\n",
    "df = df[['Close']]\n",
    "df"
   ]
  },
  {
   "cell_type": "code",
   "execution_count": 34,
   "id": "5d1f5852-6418-4fe7-98ba-d45382d15d4b",
   "metadata": {},
   "outputs": [
    {
     "data": {
      "text/plain": [
       "Date\n",
       "2021-01-04         NaN\n",
       "2021-01-05    293000.0\n",
       "2021-01-06    292500.0\n",
       "2021-01-07    290000.0\n",
       "2021-01-08    289500.0\n",
       "                ...   \n",
       "2024-09-19    160100.0\n",
       "2024-09-20    160600.0\n",
       "2024-09-23    159900.0\n",
       "2024-09-24    166700.0\n",
       "2024-09-25    168000.0\n",
       "Name: Close, Length: 919, dtype: float64"
      ]
     },
     "execution_count": 34,
     "metadata": {},
     "output_type": "execute_result"
    }
   ],
   "source": [
    "df['Close'].shift(1)"
   ]
  },
  {
   "cell_type": "code",
   "execution_count": 36,
   "id": "8702c77c-2784-432d-8ee5-9cf89e4c78e0",
   "metadata": {},
   "outputs": [
    {
     "data": {
      "text/plain": [
       "Date\n",
       "2021-01-04    1.000000\n",
       "2021-01-05   -0.170940\n",
       "2021-01-06   -0.862069\n",
       "2021-01-07   -0.172712\n",
       "2021-01-08    7.211538\n",
       "                ...   \n",
       "2024-09-19    0.311333\n",
       "2024-09-20   -0.437774\n",
       "2024-09-23    4.079184\n",
       "2024-09-24    0.773810\n",
       "2024-09-25   -1.083032\n",
       "Name: Close, Length: 919, dtype: float64"
      ]
     },
     "execution_count": 36,
     "metadata": {},
     "output_type": "execute_result"
    }
   ],
   "source": [
    "((df['Close'] - df['Close'].shift(1)) * 100 / df['Close']).fillna(1)"
   ]
  },
  {
   "cell_type": "code",
   "execution_count": 43,
   "id": "b6f9c527-0823-4d94-b837-a78672040377",
   "metadata": {},
   "outputs": [
    {
     "data": {
      "text/plain": [
       "Date\n",
       "2021-01-04    0.000000\n",
       "2021-01-05   -0.001706\n",
       "2021-01-06   -0.008547\n",
       "2021-01-07   -0.001724\n",
       "2021-01-08    0.077720\n",
       "                ...   \n",
       "2024-09-19    0.003123\n",
       "2024-09-20   -0.004359\n",
       "2024-09-23    0.042527\n",
       "2024-09-24    0.007798\n",
       "2024-09-25   -0.010714\n",
       "Name: Close, Length: 919, dtype: float64"
      ]
     },
     "execution_count": 43,
     "metadata": {},
     "output_type": "execute_result"
    }
   ],
   "source": [
    "def return_fn(df):\n",
    "    return df['Close'].pct_change().fillna(0) \n",
    "\n",
    "df_return = return_fn(df)\n",
    "df_return"
   ]
  },
  {
   "cell_type": "code",
   "execution_count": 47,
   "id": "42f73875-f0bb-401e-ae04-a815e9f5efd1",
   "metadata": {},
   "outputs": [
    {
     "data": {
      "text/plain": [
       "Date\n",
       "2021-01-04    0.000000\n",
       "2021-01-05   -0.001706\n",
       "2021-01-06   -0.010239\n",
       "2021-01-07   -0.011945\n",
       "2021-01-08    0.064846\n",
       "                ...   \n",
       "2024-09-19   -0.451877\n",
       "2024-09-20   -0.454266\n",
       "2024-09-23   -0.431058\n",
       "2024-09-24   -0.426621\n",
       "2024-09-25   -0.432765\n",
       "Name: Close, Length: 919, dtype: float64"
      ]
     },
     "execution_count": 47,
     "metadata": {},
     "output_type": "execute_result"
    }
   ],
   "source": [
    "def cum_return_fn(df_return):\n",
    "    return (df_return+1).cumprod()\n",
    "\n",
    "df_cum_return = cum_return_fn(df_return)\n",
    "df_cum_return - 1"
   ]
  },
  {
   "cell_type": "markdown",
   "id": "4584bfab-3b89-465a-bf92-6a64c44e9751",
   "metadata": {},
   "source": [
    "## DRAW DOWN\n",
    "\"고점 대비 빠진 폭\" = 새로 갱신되는 고점에 DD는 0이 됨. \n",
    "\n",
    "=> 전 고점 대비 얼마나 빠졌느냐를 아는 수치 \n",
    "\n"
   ]
  },
  {
   "cell_type": "code",
   "execution_count": 58,
   "id": "17046b32-364e-4862-bf9c-1b34998e0ded",
   "metadata": {},
   "outputs": [
    {
     "data": {
      "text/html": [
       "<div>\n",
       "<style scoped>\n",
       "    .dataframe tbody tr th:only-of-type {\n",
       "        vertical-align: middle;\n",
       "    }\n",
       "\n",
       "    .dataframe tbody tr th {\n",
       "        vertical-align: top;\n",
       "    }\n",
       "\n",
       "    .dataframe thead th {\n",
       "        text-align: right;\n",
       "    }\n",
       "</style>\n",
       "<table border=\"1\" class=\"dataframe\">\n",
       "  <thead>\n",
       "    <tr style=\"text-align: right;\">\n",
       "      <th></th>\n",
       "      <th>Close</th>\n",
       "      <th>Return</th>\n",
       "      <th>CumReturn</th>\n",
       "      <th>MaxCumReturn</th>\n",
       "      <th>DrawDown</th>\n",
       "    </tr>\n",
       "    <tr>\n",
       "      <th>Date</th>\n",
       "      <th></th>\n",
       "      <th></th>\n",
       "      <th></th>\n",
       "      <th></th>\n",
       "      <th></th>\n",
       "    </tr>\n",
       "  </thead>\n",
       "  <tbody>\n",
       "    <tr>\n",
       "      <th>2021-01-04</th>\n",
       "      <td>293000</td>\n",
       "      <td>0.000000</td>\n",
       "      <td>1.000000</td>\n",
       "      <td>1.000000</td>\n",
       "      <td>0.000000</td>\n",
       "    </tr>\n",
       "    <tr>\n",
       "      <th>2021-01-05</th>\n",
       "      <td>292500</td>\n",
       "      <td>-0.001706</td>\n",
       "      <td>0.998294</td>\n",
       "      <td>1.000000</td>\n",
       "      <td>-0.001706</td>\n",
       "    </tr>\n",
       "    <tr>\n",
       "      <th>2021-01-06</th>\n",
       "      <td>290000</td>\n",
       "      <td>-0.008547</td>\n",
       "      <td>0.989761</td>\n",
       "      <td>1.000000</td>\n",
       "      <td>-0.010239</td>\n",
       "    </tr>\n",
       "    <tr>\n",
       "      <th>2021-01-07</th>\n",
       "      <td>289500</td>\n",
       "      <td>-0.001724</td>\n",
       "      <td>0.988055</td>\n",
       "      <td>1.000000</td>\n",
       "      <td>-0.011945</td>\n",
       "    </tr>\n",
       "    <tr>\n",
       "      <th>2021-01-08</th>\n",
       "      <td>312000</td>\n",
       "      <td>0.077720</td>\n",
       "      <td>1.064846</td>\n",
       "      <td>1.064846</td>\n",
       "      <td>0.000000</td>\n",
       "    </tr>\n",
       "    <tr>\n",
       "      <th>...</th>\n",
       "      <td>...</td>\n",
       "      <td>...</td>\n",
       "      <td>...</td>\n",
       "      <td>...</td>\n",
       "      <td>...</td>\n",
       "    </tr>\n",
       "    <tr>\n",
       "      <th>2024-09-19</th>\n",
       "      <td>160600</td>\n",
       "      <td>0.003123</td>\n",
       "      <td>0.548123</td>\n",
       "      <td>1.549488</td>\n",
       "      <td>-0.646256</td>\n",
       "    </tr>\n",
       "    <tr>\n",
       "      <th>2024-09-20</th>\n",
       "      <td>159900</td>\n",
       "      <td>-0.004359</td>\n",
       "      <td>0.545734</td>\n",
       "      <td>1.549488</td>\n",
       "      <td>-0.647797</td>\n",
       "    </tr>\n",
       "    <tr>\n",
       "      <th>2024-09-23</th>\n",
       "      <td>166700</td>\n",
       "      <td>0.042527</td>\n",
       "      <td>0.568942</td>\n",
       "      <td>1.549488</td>\n",
       "      <td>-0.632819</td>\n",
       "    </tr>\n",
       "    <tr>\n",
       "      <th>2024-09-24</th>\n",
       "      <td>168000</td>\n",
       "      <td>0.007798</td>\n",
       "      <td>0.573379</td>\n",
       "      <td>1.549488</td>\n",
       "      <td>-0.629956</td>\n",
       "    </tr>\n",
       "    <tr>\n",
       "      <th>2024-09-25</th>\n",
       "      <td>166200</td>\n",
       "      <td>-0.010714</td>\n",
       "      <td>0.567235</td>\n",
       "      <td>1.549488</td>\n",
       "      <td>-0.633921</td>\n",
       "    </tr>\n",
       "  </tbody>\n",
       "</table>\n",
       "<p>919 rows × 5 columns</p>\n",
       "</div>"
      ],
      "text/plain": [
       "             Close    Return  CumReturn  MaxCumReturn  DrawDown\n",
       "Date                                                           \n",
       "2021-01-04  293000  0.000000   1.000000      1.000000  0.000000\n",
       "2021-01-05  292500 -0.001706   0.998294      1.000000 -0.001706\n",
       "2021-01-06  290000 -0.008547   0.989761      1.000000 -0.010239\n",
       "2021-01-07  289500 -0.001724   0.988055      1.000000 -0.011945\n",
       "2021-01-08  312000  0.077720   1.064846      1.064846  0.000000\n",
       "...            ...       ...        ...           ...       ...\n",
       "2024-09-19  160600  0.003123   0.548123      1.549488 -0.646256\n",
       "2024-09-20  159900 -0.004359   0.545734      1.549488 -0.647797\n",
       "2024-09-23  166700  0.042527   0.568942      1.549488 -0.632819\n",
       "2024-09-24  168000  0.007798   0.573379      1.549488 -0.629956\n",
       "2024-09-25  166200 -0.010714   0.567235      1.549488 -0.633921\n",
       "\n",
       "[919 rows x 5 columns]"
      ]
     },
     "execution_count": 58,
     "metadata": {},
     "output_type": "execute_result"
    }
   ],
   "source": [
    "df['Return'] = return_fn(df)\n",
    "df['CumReturn'] = cum_return_fn(df['Return'])\n",
    "df['MaxCumReturn'] = df['CumReturn'].cummax()\n",
    "df['DrawDown'] = (df['CumReturn'] / df['MaxCumReturn']) - 1\n",
    "\n",
    "df"
   ]
  },
  {
   "cell_type": "code",
   "execution_count": 60,
   "id": "c5bf4a15-8181-404a-8741-6e83a30a82f8",
   "metadata": {},
   "outputs": [
    {
     "data": {
      "text/plain": [
       "<Axes: xlabel='Date'>"
      ]
     },
     "execution_count": 60,
     "metadata": {},
     "output_type": "execute_result"
    },
    {
     "data": {
      "image/png": "[encoded data removed]",
      "text/plain": [
       "<Figure size 640x480 with 1 Axes>"
      ]
     },
     "metadata": {},
     "output_type": "display_data"
    }
   ],
   "source": [
    "df['DrawDown'].plot()"
   ]
  },
  {
   "cell_type": "code",
   "execution_count": 74,
   "id": "aa0475dc-71bc-44aa-81ea-6813a86ccdf6",
   "metadata": {},
   "outputs": [
    {
     "data": {
      "text/html": [
       "<div>\n",
       "<style scoped>\n",
       "    .dataframe tbody tr th:only-of-type {\n",
       "        vertical-align: middle;\n",
       "    }\n",
       "\n",
       "    .dataframe tbody tr th {\n",
       "        vertical-align: top;\n",
       "    }\n",
       "\n",
       "    .dataframe thead th {\n",
       "        text-align: right;\n",
       "    }\n",
       "</style>\n",
       "<table border=\"1\" class=\"dataframe\">\n",
       "  <thead>\n",
       "    <tr style=\"text-align: right;\">\n",
       "      <th></th>\n",
       "      <th>Close</th>\n",
       "      <th>Return</th>\n",
       "      <th>CumReturn</th>\n",
       "      <th>MaxCumReturn</th>\n",
       "      <th>DrawDown</th>\n",
       "    </tr>\n",
       "    <tr>\n",
       "      <th>Date</th>\n",
       "      <th></th>\n",
       "      <th></th>\n",
       "      <th></th>\n",
       "      <th></th>\n",
       "      <th></th>\n",
       "    </tr>\n",
       "  </thead>\n",
       "  <tbody>\n",
       "    <tr>\n",
       "      <th>2021-01-04</th>\n",
       "      <td>293000</td>\n",
       "      <td>0.000000</td>\n",
       "      <td>1.000000</td>\n",
       "      <td>1.000000</td>\n",
       "      <td>0.000000</td>\n",
       "    </tr>\n",
       "    <tr>\n",
       "      <th>2021-01-05</th>\n",
       "      <td>292500</td>\n",
       "      <td>-0.001706</td>\n",
       "      <td>0.998294</td>\n",
       "      <td>1.000000</td>\n",
       "      <td>-0.001706</td>\n",
       "    </tr>\n",
       "    <tr>\n",
       "      <th>2021-01-06</th>\n",
       "      <td>290000</td>\n",
       "      <td>-0.008547</td>\n",
       "      <td>0.989761</td>\n",
       "      <td>1.000000</td>\n",
       "      <td>-0.010239</td>\n",
       "    </tr>\n",
       "    <tr>\n",
       "      <th>2021-01-07</th>\n",
       "      <td>289500</td>\n",
       "      <td>-0.001724</td>\n",
       "      <td>0.988055</td>\n",
       "      <td>1.000000</td>\n",
       "      <td>-0.011945</td>\n",
       "    </tr>\n",
       "    <tr>\n",
       "      <th>2021-01-08</th>\n",
       "      <td>312000</td>\n",
       "      <td>0.077720</td>\n",
       "      <td>1.064846</td>\n",
       "      <td>1.064846</td>\n",
       "      <td>0.000000</td>\n",
       "    </tr>\n",
       "    <tr>\n",
       "      <th>...</th>\n",
       "      <td>...</td>\n",
       "      <td>...</td>\n",
       "      <td>...</td>\n",
       "      <td>...</td>\n",
       "      <td>...</td>\n",
       "    </tr>\n",
       "    <tr>\n",
       "      <th>2024-09-19</th>\n",
       "      <td>160600</td>\n",
       "      <td>0.003123</td>\n",
       "      <td>0.548123</td>\n",
       "      <td>1.549488</td>\n",
       "      <td>-0.646256</td>\n",
       "    </tr>\n",
       "    <tr>\n",
       "      <th>2024-09-20</th>\n",
       "      <td>159900</td>\n",
       "      <td>-0.004359</td>\n",
       "      <td>0.545734</td>\n",
       "      <td>1.549488</td>\n",
       "      <td>-0.647797</td>\n",
       "    </tr>\n",
       "    <tr>\n",
       "      <th>2024-09-23</th>\n",
       "      <td>166700</td>\n",
       "      <td>0.042527</td>\n",
       "      <td>0.568942</td>\n",
       "      <td>1.549488</td>\n",
       "      <td>-0.632819</td>\n",
       "    </tr>\n",
       "    <tr>\n",
       "      <th>2024-09-24</th>\n",
       "      <td>168000</td>\n",
       "      <td>0.007798</td>\n",
       "      <td>0.573379</td>\n",
       "      <td>1.549488</td>\n",
       "      <td>-0.629956</td>\n",
       "    </tr>\n",
       "    <tr>\n",
       "      <th>2024-09-25</th>\n",
       "      <td>166200</td>\n",
       "      <td>-0.010714</td>\n",
       "      <td>0.567235</td>\n",
       "      <td>1.549488</td>\n",
       "      <td>-0.633921</td>\n",
       "    </tr>\n",
       "  </tbody>\n",
       "</table>\n",
       "<p>919 rows × 5 columns</p>\n",
       "</div>"
      ],
      "text/plain": [
       "             Close    Return  CumReturn  MaxCumReturn  DrawDown\n",
       "Date                                                           \n",
       "2021-01-04  293000  0.000000   1.000000      1.000000  0.000000\n",
       "2021-01-05  292500 -0.001706   0.998294      1.000000 -0.001706\n",
       "2021-01-06  290000 -0.008547   0.989761      1.000000 -0.010239\n",
       "2021-01-07  289500 -0.001724   0.988055      1.000000 -0.011945\n",
       "2021-01-08  312000  0.077720   1.064846      1.064846  0.000000\n",
       "...            ...       ...        ...           ...       ...\n",
       "2024-09-19  160600  0.003123   0.548123      1.549488 -0.646256\n",
       "2024-09-20  159900 -0.004359   0.545734      1.549488 -0.647797\n",
       "2024-09-23  166700  0.042527   0.568942      1.549488 -0.632819\n",
       "2024-09-24  168000  0.007798   0.573379      1.549488 -0.629956\n",
       "2024-09-25  166200 -0.010714   0.567235      1.549488 -0.633921\n",
       "\n",
       "[919 rows x 5 columns]"
      ]
     },
     "execution_count": 74,
     "metadata": {},
     "output_type": "execute_result"
    }
   ],
   "source": [
    "df"
   ]
  },
  {
   "cell_type": "code",
   "execution_count": 78,
   "id": "1f1f7f69-87a9-40cb-9c8f-8223a76d6fbd",
   "metadata": {},
   "outputs": [
    {
     "data": {
      "text/plain": [
       "-0.6585903083700438"
      ]
     },
     "execution_count": 78,
     "metadata": {},
     "output_type": "execute_result"
    }
   ],
   "source": [
    "mdd = df['DrawDown'].min()\n",
    "mdd"
   ]
  },
  {
   "cell_type": "code",
   "execution_count": 84,
   "id": "3e9b8ec9-58c4-486f-9aab-7416710845ef",
   "metadata": {},
   "outputs": [
    {
     "name": "stdout",
     "output_type": "stream",
     "text": [
      "최고: 454000, 최저: 155000, MDD: -65.86 최저 날짜: 2024-09-09 00:00:00\n"
     ]
    }
   ],
   "source": [
    "# 최저가 \n",
    "min_close_value = df['Close'].min()\n",
    "# 최저가 날짜 \n",
    "min_date = df.index[df['Close'].argmin()]\n",
    "# 최고가 \n",
    "max_close_value = df['Close'].max()\n",
    "\n",
    "print(f\"최고: {max_close_value}, 최저: {min_close_value}, MDD: {round(mdd*100, 2)} 최저 날짜: {min_date}\")"
   ]
  },
  {
   "cell_type": "code",
   "execution_count": 98,
   "id": "76af8086-eece-4491-ac34-5e04c2d06b41",
   "metadata": {},
   "outputs": [
    {
     "name": "stderr",
     "output_type": "stream",
     "text": [
      "C:\\Users\\longbee\\AppData\\Local\\Temp\\ipykernel_63484\\2675518963.py:2: SettingWithCopyWarning: \n",
      "A value is trying to be set on a copy of a slice from a DataFrame\n",
      "\n",
      "See the caveats in the documentation: https://pandas.pydata.org/pandas-docs/stable/user_guide/indexing.html#returning-a-view-versus-a-copy\n",
      "  df_max_close.loc[df.index[len(df) - 1]] = 0\n"
     ]
    }
   ],
   "source": [
    "df_max_close = df[df['DrawDown'] == 0]\n",
    "df_max_close.loc[df.index[len(df) - 1]] = 0\n",
    "period = df_max_close.index[1:] - df_max_close.index[:-1]\n",
    "mdd_days = period.days\n",
    "max_period = mdd_days.max()\n",
    "max_period_idx = mdd_days.argmax()"
   ]
  },
  {
   "cell_type": "code",
   "execution_count": 106,
   "id": "b9004d9b-43d6-47ad-9fdf-9733c88c4dc7",
   "metadata": {},
   "outputs": [
    {
     "name": "stdout",
     "output_type": "stream",
     "text": [
      "Max Draw Down: 2021-09-06, ~ 2024-09-25\n"
     ]
    }
   ],
   "source": [
    "print(f\"Max Draw Down: {df_max_close.index[:-1][max_period_idx].date()}, ~ {df_max_close.index[1:][max_period_idx].date()}\")"
   ]
  },
  {
   "cell_type": "code",
   "execution_count": 110,
   "id": "53b29817-c148-4136-88ab-61f29e28bde2",
   "metadata": {},
   "outputs": [
    {
     "name": "stdout",
     "output_type": "stream",
     "text": [
      "1115 Days\n"
     ]
    }
   ],
   "source": [
    "print(f\"{max_period} Days\")"
   ]
  },
  {
   "cell_type": "code",
   "execution_count": 116,
   "id": "e27c34bc-bf69-4471-a6bb-3c5502e19fbc",
   "metadata": {},
   "outputs": [
    {
     "name": "stdout",
     "output_type": "stream",
     "text": [
      "Max Period: 1115\n"
     ]
    }
   ],
   "source": [
    "print(f\"Max Period: {max_period}\")"
   ]
  },
  {
   "cell_type": "code",
   "execution_count": 140,
   "id": "a8d27fa2-12c9-4439-9226-b69cfa3db346",
   "metadata": {},
   "outputs": [],
   "source": [
    "def mdd_fn(df):\n",
    "    df = df[['Close']].copy()\n",
    "\n",
    "    def return_fn(df):\n",
    "        return df['Close'].pct_change().fillna(0)\n",
    "    def cum_return_fn(df):\n",
    "        return (df + 1).cumprod()\n",
    "\n",
    "    df['Return'] = return_fn(df)\n",
    "    df['CumReturn'] = cum_return_fn(df['Return'])\n",
    "    df['MaxCumReturn'] = df['CumReturn'].cummax()\n",
    "    df['DrawDown'] = (df['CumReturn'] / df['MaxCumReturn']) - 1\n",
    "\n",
    "    mdd = df['DrawDown'].min()\n",
    "\n",
    "    list_info = list()\n",
    "\n",
    "    # 최저가 \n",
    "    min_close_value = df['Close'].min()\n",
    "    # 최고가 \n",
    "    max_close_value = df['Close'].max()\n",
    "    print(f\"최고: {max_close_value}, 최저: {min_close_value}, MDD: {round(mdd*100, 2)}\")\n",
    "\n",
    "    df_max_close = df[df['DrawDown'] == 0]\n",
    "    df_max_close.loc[df.index[len(df) - 1]] = 0\n",
    "    period = df_max_close.index[1:] - df_max_close.index[:-1]\n",
    "    mdd_days = period.days\n",
    "    max_period = mdd_days.max()\n",
    "    max_period_idx = mdd_days.argmax()\n",
    "\n",
    "    print(f\"Max Draw Down: {df_max_close.index[:-1][max_period_idx].date()}, ~ {df_max_close.index[1:][max_period_idx].date()}\")\n",
    "    print(f\"{max_period} Days\")\n",
    "    print(f\"Max Period: {max_period}\")\n",
    "\n",
    "    list_info.append(max_close_value)\n",
    "    list_info.append(min_close_value)\n",
    "    list_info.append(round(mdd*100, 2))\n",
    "    list_info.append(df_max_close.index[:-1][max_period_idx].date())\n",
    "    list_info.append(df_max_close.index[1:][max_period_idx].date())\n",
    "    list_info.append(max_period)\n",
    "\n",
    "    return df, list_info"
   ]
  },
  {
   "cell_type": "code",
   "execution_count": 144,
   "id": "48735476-cea9-4e64-bf93-89f922e5b8cf",
   "metadata": {},
   "outputs": [
    {
     "name": "stdout",
     "output_type": "stream",
     "text": [
      "최고: 454000, 최저: 155000, MDD: -65.86\n",
      "Max Draw Down: 2021-09-06, ~ 2024-09-25\n",
      "1115 Days\n",
      "Max Period: 1115\n"
     ]
    },
    {
     "name": "stderr",
     "output_type": "stream",
     "text": [
      "C:\\Users\\longbee\\AppData\\Local\\Temp\\ipykernel_63484\\744018881.py:25: SettingWithCopyWarning: \n",
      "A value is trying to be set on a copy of a slice from a DataFrame\n",
      "\n",
      "See the caveats in the documentation: https://pandas.pydata.org/pandas-docs/stable/user_guide/indexing.html#returning-a-view-versus-a-copy\n",
      "  df_max_close.loc[df.index[len(df) - 1]] = 0\n"
     ]
    },
    {
     "data": {
      "text/plain": [
       "(             Close    Return  CumReturn  MaxCumReturn  DrawDown\n",
       " Date                                                           \n",
       " 2021-01-04  293000  0.000000   1.000000      1.000000  0.000000\n",
       " 2021-01-05  292500 -0.001706   0.998294      1.000000 -0.001706\n",
       " 2021-01-06  290000 -0.008547   0.989761      1.000000 -0.010239\n",
       " 2021-01-07  289500 -0.001724   0.988055      1.000000 -0.011945\n",
       " 2021-01-08  312000  0.077720   1.064846      1.064846  0.000000\n",
       " ...            ...       ...        ...           ...       ...\n",
       " 2024-09-19  160600  0.003123   0.548123      1.549488 -0.646256\n",
       " 2024-09-20  159900 -0.004359   0.545734      1.549488 -0.647797\n",
       " 2024-09-23  166700  0.042527   0.568942      1.549488 -0.632819\n",
       " 2024-09-24  168000  0.007798   0.573379      1.549488 -0.629956\n",
       " 2024-09-25  166200 -0.010714   0.567235      1.549488 -0.633921\n",
       " \n",
       " [919 rows x 5 columns],\n",
       " [454000,\n",
       "  155000,\n",
       "  -65.86,\n",
       "  datetime.date(2021, 9, 6),\n",
       "  datetime.date(2024, 9, 25),\n",
       "  1115])"
      ]
     },
     "execution_count": 144,
     "metadata": {},
     "output_type": "execute_result"
    }
   ],
   "source": [
    "mdd_fn(df)"
   ]
  }
 ],
 "metadata": {
  "kernelspec": {
   "display_name": "Python 3 (ipykernel)",
   "language": "python",
   "name": "python3"
  },
  "language_info": {
   "codemirror_mode": {
    "name": "ipython",
    "version": 3
   },
   "file_extension": ".py",
   "mimetype": "text/x-python",
   "name": "python",
   "nbconvert_exporter": "python",
   "pygments_lexer": "ipython3",
   "version": "3.12.4"
  }
 },
 "nbformat": 4,
 "nbformat_minor": 5
}
